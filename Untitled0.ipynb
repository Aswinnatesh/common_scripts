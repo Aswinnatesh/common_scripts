{
  "nbformat": 4,
  "nbformat_minor": 0,
  "metadata": {
    "colab": {
      "provenance": [],
      "toc_visible": true,
      "authorship_tag": "ABX9TyMY1in9yvKOaO9LyL5W9LiL",
      "include_colab_link": true
    },
    "kernelspec": {
      "name": "python3",
      "display_name": "Python 3"
    },
    "language_info": {
      "name": "python"
    }
  },
  "cells": [
    {
      "cell_type": "markdown",
      "metadata": {
        "id": "view-in-github",
        "colab_type": "text"
      },
      "source": [
        "<a href=\"https://colab.research.google.com/github/Aswinnatesh/common_scripts/blob/master/Untitled0.ipynb\" target=\"_parent\"><img src=\"https://colab.research.google.com/assets/colab-badge.svg\" alt=\"Open In Colab\"/></a>"
      ]
    },
    {
      "cell_type": "code",
      "execution_count": 1,
      "metadata": {
        "id": "hrXjRTxW_qvI"
      },
      "outputs": [],
      "source": [
        "# Representation\n",
        "\n",
        "# 1 byte = 8 bits\n",
        "# 1 kilobyte (KB) = 1024 bytes\n",
        "# 1 megabyte (MB) = 1024 KB\n",
        "# 1 gigabyte (GB) = 1024 MB\n",
        "# 1 terabyte (TB) = 1024 GB\n"
      ]
    },
    {
      "cell_type": "code",
      "source": [],
      "metadata": {
        "id": "Pb878JiBAC6j"
      },
      "execution_count": null,
      "outputs": []
    }
  ]
}