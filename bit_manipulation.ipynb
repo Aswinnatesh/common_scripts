{
  "nbformat": 4,
  "nbformat_minor": 0,
  "metadata": {
    "colab": {
      "provenance": [],
      "toc_visible": true,
      "authorship_tag": "ABX9TyOCCwDvd1gf6iGKWqoRpml+",
      "include_colab_link": true
    },
    "kernelspec": {
      "name": "python3",
      "display_name": "Python 3"
    },
    "language_info": {
      "name": "python"
    }
  },
  "cells": [
    {
      "cell_type": "markdown",
      "metadata": {
        "id": "view-in-github",
        "colab_type": "text"
      },
      "source": [
        "<a href=\"https://colab.research.google.com/github/Aswinnatesh/common_scripts/blob/master/bit_manipulation.ipynb\" target=\"_parent\"><img src=\"https://colab.research.google.com/assets/colab-badge.svg\" alt=\"Open In Colab\"/></a>"
      ]
    },
    {
      "cell_type": "markdown",
      "source": [
        "##Data Representation and Storage Units\n",
        "\n",
        "| Unit              | Bytes       | Bits to Represent |\n",
        "|--------------------|-------------|-------------------|\n",
        "| 1 byte             | 8 bits     | 3 bits            |\n",
        "| 1 kilobyte (KB)    | 1024 bytes | 13 bits           |\n",
        "| 1 megabyte (MB)    | 1024 KB    | 23 bits           |\n",
        "| 1 gigabyte (GB)    | 1024 MB    | 33 bits           |\n",
        "| 1 terabyte (TB)    | 1024 GB    | 53 bits           |\n",
        "\n",
        "##Word boundary\n",
        "\n",
        "> A word can be defined as the basic unit of data that the CPU processes in a single cycle. The size of a word varies depending on the architecture and can refer to how many bits the CPU handles simultaneously, typically corresponding to the register size or the size of the data bus.\n",
        "\n",
        "> The word size is typically measured in bits and can differ across different processor architectures. Common architectures include:\n",
        "- 16-bit Architecture | Word Size: 16 bits | Max Addressable Memory: 64 KB (2¹⁶ bytes)\n",
        "- 32-bit Architecture | Word Size: 32 bits | Max Addressable Memory: 4 GB (2³² bytes)\n",
        "- 64-bit Architecture | Word Size: 64 bits | Max Addressable Memory: 16 EB (Exabytes), or 2⁶⁴ bytes"
      ],
      "metadata": {
        "id": "TP69f3FyD0Oz"
      }
    },
    {
      "cell_type": "code",
      "source": [
        "# CLOG 2 Function\n",
        "\n",
        "# Importing the necessary libraries\n",
        "import numpy as np\n",
        "\n",
        "# Function to calculate log base 2 and its ceiling value\n",
        "def calculate_log2(bits):\n",
        "    # Calculate log2\n",
        "    return np.log2(bits), np.ceil(np.log2(bits))\n",
        "\n",
        "# Input from user\n",
        "try:\n",
        "    # Taking input for number of bits\n",
        "    bits = float(input(\"Enter the number of bits: \"))\n",
        "\n",
        "    # Check if the input is a positive number\n",
        "    if bits > 0:\n",
        "        log2_value, ceiling_value = calculate_log2(bits)\n",
        "        print(f\"The log base 2 of {bits} is: {log2_value:.4f}\")  # Print log2 value\n",
        "        print(f\"The ceiling value of log base 2 is: {int(ceiling_value)}\")  # Print ceiling value\n",
        "    else:\n",
        "        print(\"Please enter a positive number.\")\n",
        "except ValueError:\n",
        "    print(\"Invalid input. Please enter a numerical value.\")"
      ],
      "metadata": {
        "id": "Pb878JiBAC6j",
        "colab": {
          "base_uri": "https://localhost:8080/"
        },
        "outputId": "8f8b0590-4ba9-411d-eb5a-2e312bf2595e"
      },
      "execution_count": 8,
      "outputs": [
        {
          "output_type": "stream",
          "name": "stdout",
          "text": [
            "Enter the number of bits: 8\n",
            "The log base 2 of 8.0 is: 3.0000\n",
            "The ceiling value of log base 2 is: 3\n"
          ]
        }
      ]
    },
    {
      "cell_type": "code",
      "source": [
        "# Function to calculate size in bytes, words, kilobytes (KB), and megabytes (MB)\n",
        "def calculate_size(start_address, end_address, bytes_per_word=4):\n",
        "    # Convert the hexadecimal addresses to decimal\n",
        "    start = int(start_address, 16)\n",
        "    end = int(end_address, 16)\n",
        "\n",
        "    # Calculate the size in bytes (include the end address)\n",
        "    size_in_bytes = end - start + 1\n",
        "\n",
        "    # Calculate the size in words (word size is set by bytes_per_word parameter)\n",
        "    size_in_words = size_in_bytes // bytes_per_word\n",
        "\n",
        "    # Calculate the size in kilobytes (KB)\n",
        "    size_in_kb = size_in_bytes / 1024\n",
        "\n",
        "    # Calculate the size in megabytes (MB)\n",
        "    size_in_mb = size_in_bytes / (1024 * 1024)\n",
        "\n",
        "    # Print results\n",
        "    print(f\"Start Address: {start_address}\")\n",
        "    print(f\"End Address: {end_address}\")\n",
        "    print(\"\\n\")\n",
        "    print(f\"Size in Bytes: {size_in_bytes} bytes\")\n",
        "    print(f\"Size in Words (word size = {bytes_per_word} bytes): {size_in_words} words\")\n",
        "    print(f\"Size in KB: {size_in_kb:.2f} KB\")\n",
        "    print(f\"Size in MB: {size_in_mb:.2f} MB\")\n",
        "\n",
        "# Example usage\n",
        "start_address = \"0xc000_0000\"  # Specify start address in hex\n",
        "end_address = \"0xc03f_ffff\"    # Specify end address in hex\n",
        "bytes_per_word = 4             # Define how many bytes make up a word\n",
        "\n",
        "# Call the function\n",
        "calculate_size(start_address, end_address, bytes_per_word)"
      ],
      "metadata": {
        "id": "yXz4lpWzETuT",
        "colab": {
          "base_uri": "https://localhost:8080/"
        },
        "outputId": "69929237-cd1a-4592-e6a2-40d29502cb46"
      },
      "execution_count": 13,
      "outputs": [
        {
          "output_type": "stream",
          "name": "stdout",
          "text": [
            "Start Address: 0xc000_0000\n",
            "End Address: 0xc03f_ffff\n",
            "\n",
            "\n",
            "Size in Bytes: 4194304 bytes\n",
            "Size in Words (word size = 4 bytes): 1048576 words\n",
            "Size in KB: 4096.00 KB\n",
            "Size in MB: 4.00 MB\n"
          ]
        }
      ]
    },
    {
      "cell_type": "code",
      "source": [],
      "metadata": {
        "id": "L_YwTE8Obd9-"
      },
      "execution_count": 6,
      "outputs": []
    }
  ]
}